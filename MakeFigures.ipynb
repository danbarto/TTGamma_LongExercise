{
 "cells": [
  {
   "cell_type": "code",
   "execution_count": null,
   "metadata": {},
   "outputs": [],
   "source": [
    "import numpy as np\n",
    "\n",
    "import matplotlib.pyplot as plt\n",
    "from cycler import cycler\n",
    "from coffea import hist, util\n",
    "\n",
    "from ttgamma.utils.plotting import plotWithRatio, RebinHist, SetRangeHist"
   ]
  },
  {
   "cell_type": "markdown",
   "metadata": {},
   "source": [
    "Load output files"
   ]
  },
  {
   "cell_type": "code",
   "execution_count": null,
   "metadata": {},
   "outputs": [],
   "source": [
    "nJets = 4\n",
    "\n",
    "outputMC = util.load(f'Outputs/outputMCOther_ttgamma_condorFull_{nJets}jet.coffea')\n",
    "outputMC.add(util.load(f'Outputs/outputMCSingletop_ttgamma_condorFull_{nJets}jet.coffea'))\n",
    "outputMC.add(util.load(f'Outputs/outputMCTTbar1l_ttgamma_condorFull_{nJets}jet.coffea'))\n",
    "outputMC.add(util.load(f'Outputs/outputMCTTbar2l_ttgamma_condorFull_{nJets}jet.coffea'))\n",
    "outputMC.add(util.load(f'Outputs/outputMCTTGamma_ttgamma_condorFull_{nJets}jet.coffea'))\n",
    "outputMC.add(util.load(f'Outputs/outputMCWJets_ttgamma_condorFull_{nJets}jet.coffea'))\n",
    "outputMC.add(util.load(f'Outputs/outputMCZJets_ttgamma_condorFull_{nJets}jet.coffea'))\n",
    "\n",
    "outputData = util.load(f'Outputs/outputData_ttgamma_condorFull_{nJets}jet.coffea')"
   ]
  },
  {
   "cell_type": "markdown",
   "metadata": {},
   "source": [
    "Set up groupings of samples.\n",
    "Order of dictionary is used for determining plotting order"
   ]
  },
  {
   "cell_type": "code",
   "execution_count": null,
   "metadata": {},
   "outputs": [],
   "source": [
    "grouping= {'$t\\overline{t}+\\gamma$': ['TTGamma_Dilepton','TTGamma_SingleLept','TTGamma_Hadronic'],\n",
    "            '$t\\overline{t}$'  : ['TTbarPowheg_Dilepton', 'TTbarPowheg_Semilept', 'TTbarPowheg_Hadronic'],\n",
    "            'Single top':['ST_s_channel', 'ST_tW_channel', 'ST_tbarW_channel', 'ST_tbar_channel', 'ST_t_channel'],\n",
    "            'W+jets':['W1jets', 'W2jets', 'W3jets', 'W4jets'],\n",
    "            'Z+jets'  : ['DYjetsM10to50', 'DYjetsM50'],\n",
    "            'W+$\\gamma$' : ['WGamma_01J_5f'],\n",
    "            'Z+$\\gamma$' : ['ZGamma_01J_5f_lowMass'],\n",
    "            'TTV'    : ['TTWtoLNu','TTWtoQQ','TTZtoLL'],\n",
    "            'GJets'  : [ 'GJets_HT40To100', 'GJets_HT100To200', 'GJets_HT200To400', 'GJets_HT400To600', 'GJets_HT600ToInf'],\n",
    "            'QCD'    :['QCD_Pt20to30_Ele', 'QCD_Pt30to50_Ele', 'QCD_Pt50to80_Ele', 'QCD_Pt80to120_Ele', 'QCD_Pt120to170_Ele', 'QCD_Pt170to300_Ele', 'QCD_Pt300toInf_Ele', 'QCD_Pt20to30_Mu', 'QCD_Pt30to50_Mu', 'QCD_Pt50to80_Mu', 'QCD_Pt80to120_Mu', 'QCD_Pt120to170_Mu', 'QCD_Pt170to300_Mu', 'QCD_Pt300to470_Mu', 'QCD_Pt470to600_Mu', 'QCD_Pt600to800_Mu', 'QCD_Pt800to1000_Mu', 'QCD_Pt1000toInf_Mu'],\n",
    "  }\n",
    "\n",
    "groupCategory= {\"Genuine $\\gamma$\": slice(1,2),\n",
    "                \"MisID e\":slice(2,3),\n",
    "                \"NonPrompt\":slice(3,5),\n",
    "               }\n"
   ]
  },
  {
   "cell_type": "markdown",
   "metadata": {},
   "source": [
    "Plot the photon pt spectrum"
   ]
  },
  {
   "cell_type": "code",
   "execution_count": null,
   "metadata": {
    "scrolled": true
   },
   "outputs": [],
   "source": [
    "#Get photon pt distribution from coffea output\n",
    "h = outputMC['photon_pt']\n",
    "\n",
    "#sum over lepton flavors (get both electron and muon)\n",
    "h = h.sum('lepFlavor')\n",
    "\n",
    "#integrate over systematics, selecting only \"nominal\"\n",
    "h = h.integrate('systematic','nominal')\n",
    "\n",
    "#group the datasets into the sample types\n",
    "h = h.group('dataset',hist.Cat(r'dataset',r'Samples',sorting='placement'),grouping)\n",
    "\n",
    "#group the photon category axis into the category types listed above\n",
    "h = h.group('category',hist.Cat(r'category',r'Category',sorting='placement'),groupCategory)\n",
    "\n",
    "#rebin the pt axis\n",
    "h = h.rebin(\"pt\",hist.Bin(\"pt\",h.axis(\"pt\").label,np.array([20,25,30,35,40,45,50,60,70,80,90,100,120,140,160,180,200,250,300,400,500])))\n",
    "\n",
    "hData = outputData['photon_pt'].sum('lepFlavor').sum('systematic').sum('dataset').sum('category')\n",
    "hData = hData.rebin(\"pt\",hist.Bin(\"pt\",h.axis(\"pt\").label,np.array([20,25,30,35,40,45,50,60,70,80,90,100,120,140,160,180,200,250,300,400,500])))\n",
    "\n",
    "plotWithRatio(h.sum('category'), hData, overlay='dataset', invertStack=True, binwnorm=1., xRange=[20,500], yRange=[5e-2,None], logY=True,leg='right')\n",
    "plotWithRatio(h.sum('dataset'), hData, overlay='category', invertStack=True, binwnorm=1., xRange=[20,500], yRange=[5e-2,None], logY=True,leg='right')\n"
   ]
  },
  {
   "cell_type": "code",
   "execution_count": null,
   "metadata": {},
   "outputs": [],
   "source": []
  },
  {
   "cell_type": "code",
   "execution_count": null,
   "metadata": {},
   "outputs": [],
   "source": [
    "h = outputMC['photon_chIso'].sum('lepFlavor').integrate('systematic','nominal')\n",
    "h = h.group('dataset',hist.Cat(r'dataset',r'Samples',sorting='placement'),grouping)\n",
    "h = h.group('category',hist.Cat(r'category',r'Category',sorting='placement'),groupCategory)\n",
    "h = RebinHist(h,'chIso',10)\n",
    "hData = outputData['photon_chIso'].sum('lepFlavor').sum('systematic').sum('dataset').sum('category')\n",
    "hData = RebinHist(hData,'chIso',10)\n",
    "\n",
    "plotWithRatio(h.sum('category'), hData, overlay='dataset', invertStack=True, xRange=[-.1,20], yRange=[1e-1,None], logY=True,leg='right')\n",
    "plotWithRatio(h.sum('dataset'), hData, overlay='category', invertStack=False, xRange=[-.1,20], yRange=[1e-1,None], logY=True,leg='right')\n"
   ]
  },
  {
   "cell_type": "code",
   "execution_count": null,
   "metadata": {},
   "outputs": [],
   "source": [
    "h = outputMC['M3'].integrate('lepFlavor','muon').integrate('systematic','nominal')\n",
    "h = h.group('dataset',hist.Cat(r'dataset',r'Samples',sorting='placement'),grouping)\n",
    "h = h.group('category',hist.Cat(r'category',r'Category',sorting='placement'),groupCategory)\n",
    "h = RebinHist(h,\"M3\",5)\n",
    "h = SetRangeHist(h,\"M3\",50,500)\n",
    "\n",
    "hData = outputData['M3'].integrate('lepFlavor','muon').sum('systematic').sum('dataset').sum('category')\n",
    "hData = RebinHist(hData,\"M3\",5)\n",
    "hData = SetRangeHist(hData,\"M3\",50,500)\n",
    "\n",
    "plotWithRatio(h.sum('category'), hData, overlay='dataset', invertStack=True, leg='right')#, yRange=[1e-1,None], logY=True)\n",
    "plotWithRatio(h.sum('dataset'), hData, overlay='category', invertStack=True, leg='right')#, yRange=[1e-1,None], logY=True)\n"
   ]
  },
  {
   "cell_type": "code",
   "execution_count": null,
   "metadata": {},
   "outputs": [],
   "source": [
    "h = outputMC['M3Presel'].sum('lepFlavor').integrate('systematic','nominal')\n",
    "h = h.group('dataset',hist.Cat(r'dataset',r'Samples',sorting='placement'),grouping)\n",
    "h = RebinHist(h,\"M3\",5)\n",
    "h = SetRangeHist(h,\"M3\",50,550)\n",
    "\n",
    "hData = outputData['M3Presel'].sum('lepFlavor').sum('systematic').sum('dataset')\n",
    "hData = RebinHist(hData,\"M3\",5)\n",
    "hData = SetRangeHist(hData,\"M3\",50,550)\n",
    "\n",
    "plotWithRatio(h, hData, overlay='dataset', invertStack=True, xRange=[50,550], leg='right')#, yRange=[1e-1,None], logY=True)\n",
    "\n"
   ]
  },
  {
   "cell_type": "code",
   "execution_count": null,
   "metadata": {},
   "outputs": [],
   "source": [
    "h = outputMC['photon_lepton_mass_3j0t'].integrate('lepFlavor','electron').integrate('systematic','nominal')\n",
    "h = h.group('dataset',hist.Cat(r'dataset',r'Samples',sorting='placement'),grouping)\n",
    "h = h.group('category',hist.Cat(r'category',r'Category',sorting='placement'),groupCategory)\n",
    "#h = h.rebin(\"mass\",5).setRange(\"mass\",10,200)\n",
    "h = RebinHist(h,\"mass\",5)\n",
    "h = SetRangeHist(h,\"mass\",10,200)\n",
    "\n",
    "hData = outputData['photon_lepton_mass_3j0t'].integrate('lepFlavor','electron').sum('systematic').sum('dataset').sum('category')\n",
    "#hData = hData.rebin(\"mass\",5).setRange(\"mass\",10,200)\n",
    "hData = RebinHist(hData,\"mass\",5)\n",
    "hData = SetRangeHist(hData,\"mass\",10,200)\n",
    "\n",
    "plotWithRatio(h.sum('category'), hData, overlay='dataset', invertStack=True, yRange=[0,1800], leg='right')\n",
    "plotWithRatio(h.sum('dataset'), hData, overlay='category', invertStack=True, yRange=[0,1800], leg='right')\n"
   ]
  },
  {
   "cell_type": "code",
   "execution_count": null,
   "metadata": {},
   "outputs": [],
   "source": []
  }
 ],
 "metadata": {
  "kernelspec": {
   "display_name": "Python 3 (ipykernel)",
   "language": "python",
   "name": "python3"
  },
  "language_info": {
   "codemirror_mode": {
    "name": "ipython",
    "version": 3
   },
   "file_extension": ".py",
   "mimetype": "text/x-python",
   "name": "python",
   "nbconvert_exporter": "python",
   "pygments_lexer": "ipython3",
   "version": "3.8.12"
  }
 },
 "nbformat": 4,
 "nbformat_minor": 2
}
